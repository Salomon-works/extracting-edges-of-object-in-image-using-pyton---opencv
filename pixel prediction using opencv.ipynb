{
 "cells": [
  {
   "cell_type": "code",
   "execution_count": 16,
   "id": "730c1ea4",
   "metadata": {},
   "outputs": [
    {
     "name": "stdout",
     "output_type": "stream",
     "text": [
      "Requirement already satisfied: opencv-python in c:\\users\\josep\\appdata\\roaming\\python\\python310\\site-packages (4.6.0.66)\n",
      "Requirement already satisfied: numpy>=1.17.3 in c:\\users\\josep\\appdata\\roaming\\python\\python310\\site-packages (from opencv-python) (1.23.1)\n",
      "Requirement already satisfied: opencv-contrib-python in c:\\python310\\lib\\site-packages (4.6.0.66)\n",
      "Requirement already satisfied: numpy>=1.17.3 in c:\\users\\josep\\appdata\\roaming\\python\\python310\\site-packages (from opencv-contrib-python) (1.23.1)\n"
     ]
    }
   ],
   "source": [
    "!pip install opencv-python\n",
    "!pip install opencv-contrib-python\n"
   ]
  },
  {
   "cell_type": "code",
   "execution_count": 10,
   "id": "98a96e4d",
   "metadata": {},
   "outputs": [],
   "source": [
    "# to find x and y coordinates or pixel value on image \n",
    "import cv2 as cv\n",
    "import numpy as num\n"
   ]
  },
  {
   "cell_type": "code",
   "execution_count": 11,
   "id": "1a8b5590",
   "metadata": {},
   "outputs": [],
   "source": [
    "# just importing the image\n",
    "img=cv.imread(\"C://Users//josep//Downloads//Web capture_24-7-2022_805_www.bing.com.jpeg\")\n",
    "# cv.imshow(\"image\", img)\n",
    "# cv.waitKey(0)\n",
    "# cv.destroyAllWindows()"
   ]
  },
  {
   "cell_type": "code",
   "execution_count": 13,
   "id": "21d33781",
   "metadata": {},
   "outputs": [
    {
     "name": "stdout",
     "output_type": "stream",
     "text": [
      "388 , 172\n",
      "595 , 96\n",
      "659 , 209\n"
     ]
    }
   ],
   "source": [
    "# defining the functions to be act\n",
    "def find_coord(event, x, y, flags,params):\n",
    "    if event==cv.EVENT_FLAG_LBUTTON:\n",
    "        # for the use of left mouse click\n",
    "        print(x,',',y)\n",
    "        # to define or print on the same image or windows\n",
    "        font=cv.FONT_HERSHEY_PLAIN\n",
    "        cv.putText(img,str(x) +','+ str(y), (x,y), font, 1,(255,0,0))\n",
    "        # to show the text on the image itself\n",
    "        cv.imshow(\"image\", img)\n",
    "\n",
    "if __name__==\"__main__\":\n",
    "    # read and display the image\n",
    "    img=cv.imread(\"C://Users//josep//Downloads//Web capture_24-7-2022_805_www.bing.com.jpeg\")\n",
    "    # display the image\n",
    "    cv.imshow(\"image\", img)\n",
    "    # just calling back the functions\n",
    "    cv.setMouseCallback(\"image\", find_coord)\n",
    "    cv.waitKey(0)\n",
    "    cv.destroyAllWindows()\n",
    "    "
   ]
  },
  {
   "cell_type": "code",
   "execution_count": null,
   "id": "42e8b398",
   "metadata": {},
   "outputs": [],
   "source": []
  },
  {
   "cell_type": "code",
   "execution_count": null,
   "id": "859adda9",
   "metadata": {},
   "outputs": [],
   "source": []
  }
 ],
 "metadata": {
  "kernelspec": {
   "display_name": "Python 3 (ipykernel)",
   "language": "python",
   "name": "python3"
  },
  "language_info": {
   "codemirror_mode": {
    "name": "ipython",
    "version": 3
   },
   "file_extension": ".py",
   "mimetype": "text/x-python",
   "name": "python",
   "nbconvert_exporter": "python",
   "pygments_lexer": "ipython3",
   "version": "3.10.5"
  }
 },
 "nbformat": 4,
 "nbformat_minor": 5
}
