{
 "cells": [
  {
   "cell_type": "code",
   "execution_count": 1,
   "id": "bcb3af0b",
   "metadata": {},
   "outputs": [
    {
     "name": "stdout",
     "output_type": "stream",
     "text": [
      "Requirement already satisfied: opencv-python in c:\\users\\josep\\appdata\\roaming\\python\\python310\\site-packages (4.6.0.66)\n",
      "Requirement already satisfied: numpy>=1.17.3 in c:\\users\\josep\\appdata\\roaming\\python\\python310\\site-packages (from opencv-python) (1.23.1)\n"
     ]
    }
   ],
   "source": [
    "!pip install opencv-python"
   ]
  },
  {
   "cell_type": "code",
   "execution_count": 2,
   "id": "a8f51150",
   "metadata": {},
   "outputs": [],
   "source": [
    "# libraries to import\n",
    "import cv2 as cv \n",
    "import numpy as np \n",
    "import matplotlib.pyplot as plt\n",
    "# to read the particular image\n",
    "img=cv.imread(\"C://Users//josep//Downloads//Web capture_24-7-2022_8711_www.bing.com.jpeg\")"
   ]
  },
  {
   "cell_type": "code",
   "execution_count": 3,
   "id": "953703f8",
   "metadata": {},
   "outputs": [],
   "source": [
    "# just converting the image into gray scale\n",
    "gray= cv.cvtColor(img, cv.COLOR_BGR2GRAY)"
   ]
  },
  {
   "cell_type": "code",
   "execution_count": 4,
   "id": "d1efc5e2",
   "metadata": {},
   "outputs": [],
   "source": [
    "# display the gray scale image\n",
    "# cv.imshow('pic', gray)\n",
    "# cv.waitKey(0)\n",
    "# cv.destroyAllWindow()"
   ]
  },
  {
   "cell_type": "code",
   "execution_count": null,
   "id": "a4bd0223",
   "metadata": {},
   "outputs": [],
   "source": [
    "# perform the canny edge detector to detect image edges\n",
    "edges=cv.Canny(gray, threshold1=20, threshold2=70)\n",
    "# for better edges detection can change the \n",
    "#these threshold values again and again, we can try here lets see\n",
    "cv.imshow('results', edges)\n",
    "cv.imshow('orginal_image', img)\n",
    "cv.waitKey(0)\n",
    "cv.destroyAllWindow()"
   ]
  },
  {
   "cell_type": "code",
   "execution_count": null,
   "id": "ffaab0ba",
   "metadata": {},
   "outputs": [],
   "source": []
  },
  {
   "cell_type": "code",
   "execution_count": null,
   "id": "d051be18",
   "metadata": {},
   "outputs": [],
   "source": []
  }
 ],
 "metadata": {
  "kernelspec": {
   "display_name": "Python 3 (ipykernel)",
   "language": "python",
   "name": "python3"
  },
  "language_info": {
   "codemirror_mode": {
    "name": "ipython",
    "version": 3
   },
   "file_extension": ".py",
   "mimetype": "text/x-python",
   "name": "python",
   "nbconvert_exporter": "python",
   "pygments_lexer": "ipython3",
   "version": "3.10.5"
  }
 },
 "nbformat": 4,
 "nbformat_minor": 5
}
