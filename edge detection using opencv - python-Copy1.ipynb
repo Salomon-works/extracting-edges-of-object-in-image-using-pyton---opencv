{
 "cells": [
  {
   "cell_type": "code",
   "execution_count": null,
   "id": "bcb3af0b",
   "metadata": {},
   "outputs": [],
   "source": [
    "!pip install opencv-python"
   ]
  },
  {
   "cell_type": "code",
   "execution_count": null,
   "id": "a8f51150",
   "metadata": {},
   "outputs": [],
   "source": [
    "import cv2 as cv \n",
    "import numpy as np \n",
    "import matplotlib.pyplot as plt\n",
    "img=cv.imread(\"C://Users//josep//Downloads//Web capture_24-7-2022_8711_www.bing.com.jpeg\")"
   ]
  },
  {
   "cell_type": "code",
   "execution_count": null,
   "id": "953703f8",
   "metadata": {},
   "outputs": [],
   "source": [
    "gray= cv.cvtColor(img, cv.COLOR_BGR2GRAY)"
   ]
  },
  {
   "cell_type": "code",
   "execution_count": null,
   "id": "d1efc5e2",
   "metadata": {},
   "outputs": [],
   "source": [
    "# cv.imshow('pic', gray)\n",
    "# cv.waitKey(0)\n",
    "# cv.destroyAllWindow()"
   ]
  },
  {
   "cell_type": "code",
   "execution_count": 27,
   "id": "a4bd0223",
   "metadata": {},
   "outputs": [
    {
     "ename": "AttributeError",
     "evalue": "module 'cv2' has no attribute 'destroyAllWindow'",
     "output_type": "error",
     "traceback": [
      "\u001b[1;31m---------------------------------------------------------------------------\u001b[0m",
      "\u001b[1;31mAttributeError\u001b[0m                            Traceback (most recent call last)",
      "Input \u001b[1;32mIn [27]\u001b[0m, in \u001b[0;36m<cell line: 8>\u001b[1;34m()\u001b[0m\n\u001b[0;32m      6\u001b[0m cv\u001b[38;5;241m.\u001b[39mimshow(\u001b[38;5;124m'\u001b[39m\u001b[38;5;124morginal_image\u001b[39m\u001b[38;5;124m'\u001b[39m, img)\n\u001b[0;32m      7\u001b[0m cv\u001b[38;5;241m.\u001b[39mwaitKey(\u001b[38;5;241m0\u001b[39m)\n\u001b[1;32m----> 8\u001b[0m \u001b[43mcv\u001b[49m\u001b[38;5;241;43m.\u001b[39;49m\u001b[43mdestroyAllWindow\u001b[49m()\n",
      "\u001b[1;31mAttributeError\u001b[0m: module 'cv2' has no attribute 'destroyAllWindow'"
     ]
    }
   ],
   "source": [
    "# perform the canny edge detector to detect image edges\n",
    "edges=cv.Canny(gray, threshold1=20, threshold2=70)\n",
    "# for better edges detection can change the \n",
    "#these threshold values again and again, we can try here lets see\n",
    "cv.imshow('results', edges)\n",
    "cv.imshow('orginal_image', img)\n",
    "cv.waitKey(0)\n",
    "cv.destroyAllWindow()"
   ]
  },
  {
   "cell_type": "code",
   "execution_count": null,
   "id": "ffaab0ba",
   "metadata": {},
   "outputs": [],
   "source": []
  },
  {
   "cell_type": "code",
   "execution_count": null,
   "id": "d051be18",
   "metadata": {},
   "outputs": [],
   "source": []
  }
 ],
 "metadata": {
  "kernelspec": {
   "display_name": "Python 3 (ipykernel)",
   "language": "python",
   "name": "python3"
  },
  "language_info": {
   "codemirror_mode": {
    "name": "ipython",
    "version": 3
   },
   "file_extension": ".py",
   "mimetype": "text/x-python",
   "name": "python",
   "nbconvert_exporter": "python",
   "pygments_lexer": "ipython3",
   "version": "3.10.5"
  }
 },
 "nbformat": 4,
 "nbformat_minor": 5
}
